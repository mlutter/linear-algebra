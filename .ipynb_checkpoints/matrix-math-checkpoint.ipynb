{
 "cells": [
  {
   "cell_type": "code",
   "execution_count": 27,
   "metadata": {
    "collapsed": true
   },
   "outputs": [],
   "source": [
    "import numpy as np\n",
    "\n",
    "matA = np.array([[1,0,0],[-3,1,0],[0,0,1]])\n",
    "matB = np.array([[1,2,1],[3,8,1],[0,4,1]])\n"
   ]
  },
  {
   "cell_type": "markdown",
   "metadata": {},
   "source": [
    "# Matrix Multiplication"
   ]
  },
  {
   "cell_type": "code",
   "execution_count": 28,
   "metadata": {
    "scrolled": true
   },
   "outputs": [
    {
     "name": "stdout",
     "output_type": "stream",
     "text": [
      "[[ 1  2  1]\n",
      " [ 0  2 -2]\n",
      " [ 0  4  1]]\n"
     ]
    }
   ],
   "source": [
    "#The numpy easy way\n",
    "print(np.dot(matA, matB))\n"
   ]
  },
  {
   "cell_type": "code",
   "execution_count": 32,
   "metadata": {},
   "outputs": [
    {
     "name": "stdout",
     "output_type": "stream",
     "text": [
      "[[ 1.  2.  1.]\n",
      " [ 0.  2. -2.]\n",
      " [ 0.  4.  1.]]\n"
     ]
    }
   ],
   "source": [
    "#reinventing the wheel\n",
    "def my_matrix_multiply(A, B):\n",
    "    '''Multiply two matrices'''\n",
    "    numRowA = len(A)\n",
    "    numColA = len(A[0])\n",
    "    numRowB = len(B)\n",
    "    numColB = len(B[0])   \n",
    "    \n",
    "    #requirement for multiplication is the number of columns of A must match the number of rows of B\n",
    "    if numColA != numRowB:\n",
    "        print(\"Error multiplying: Columns of A do not equal rows of B\")\n",
    "        return\n",
    "    \n",
    "    #If A is m by n and B is n by p then C will be m by p. \n",
    "    #or, basically, the number of rows from A and the number of columns from B\n",
    "    C = np.zeros(shape=(numRowA, numColB))\n",
    "    \n",
    "    #Then, any C[i][j] will be the sum of the row i from A and col j from B\n",
    "    for i in range(numRowA):\n",
    "        for j in range(numColB):\n",
    "            for k in range(numColA):\n",
    "                C[i][j] += A[i][k] * B[k][j]\n",
    "    return C\n",
    "\n",
    "print(my_matrix_multiply(matA, matB))\n"
   ]
  },
  {
   "cell_type": "markdown",
   "metadata": {},
   "source": [
    "# Identity Matrix"
   ]
  },
  {
   "cell_type": "code",
   "execution_count": 33,
   "metadata": {},
   "outputs": [
    {
     "name": "stdout",
     "output_type": "stream",
     "text": [
      "[[ 1.  0.  0.]\n",
      " [ 0.  1.  0.]\n",
      " [ 0.  0.  1.]]\n"
     ]
    }
   ],
   "source": [
    "print( np.identity(3))"
   ]
  },
  {
   "cell_type": "code",
   "execution_count": 37,
   "metadata": {},
   "outputs": [
    {
     "name": "stdout",
     "output_type": "stream",
     "text": [
      "[[ 1.  0.  0.  0.]\n",
      " [ 0.  1.  0.  0.]\n",
      " [ 0.  0.  1.  0.]\n",
      " [ 0.  0.  0.  1.]]\n"
     ]
    }
   ],
   "source": [
    "def my_identity(size):\n",
    "    '''generate identity matrix of parameter size'''\n",
    "    C = np.zeros(shape=(size, size))\n",
    "    for row in range(size):\n",
    "        C[row][row]=1\n",
    "    return C\n",
    "print( my_identity(4))"
   ]
  },
  {
   "cell_type": "markdown",
   "metadata": {},
   "source": [
    "# Linear Equations\n",
    "This solves a system of equations (n equations in n unknowns) of Ax = b where: \n",
    "* A is the coefficient matrix of size n by n \n",
    "* x is an unknown column vector \n",
    "* b is a known column vector. \n",
    "\n",
    "This is pretty tough to understand so it is heavily sprinkled with comments and debugging prints because the goal is to learn what is happening. \n",
    "\n",
    "Also, super inefficient, so don't really use this. The numpy version is way better since it uses a different technique. This code uses gaussian elimination with back substitution, the numpy solver uses LU-decomposition.\n",
    "\n",
    "I leaned heavily on this: https://martin-thoma.com/solving-linear-equations-with-gaussian-elimination/"
   ]
  },
  {
   "cell_type": "code",
   "execution_count": 43,
   "metadata": {},
   "outputs": [
    {
     "name": "stdout",
     "output_type": "stream",
     "text": [
      "------------Testing 3x3-------------\n",
      "My solver says: \n",
      "[ 3.  1.  2.]\n",
      "numpy says: \n",
      "[ 3.  1.  2.]\n",
      "------------Testing 3x3-------------\n",
      "My solver says: \n",
      "[ 2.  1. -2.]\n",
      "numpy says: \n",
      "[ 2.  1. -2.]\n",
      "------------Testing 2x2-------------\n",
      "My solver says: \n",
      "[ 1.  2.]\n",
      "numpy says: \n",
      "[ 1.  2.]\n",
      "-----------A random 20x20--------------\n",
      "My solver says: \n",
      "[-0.20828059 -0.40664065 -0.36293332 -0.26176512  0.11602893  0.6020817\n",
      " -0.02981623  0.74717283  0.48120409  0.26134339  0.48016756 -0.2804258\n",
      "  0.35941802 -0.77387085  0.26656988 -0.14151787  0.36810365 -0.9524231\n",
      "  0.42416961  0.23218147]\n",
      "numpy says: \n",
      "[-0.20828059 -0.40664065 -0.36293332 -0.26176512  0.11602893  0.6020817\n",
      " -0.02981623  0.74717283  0.48120409  0.26134339  0.48016756 -0.2804258\n",
      "  0.35941802 -0.77387085  0.26656988 -0.14151787  0.36810365 -0.9524231\n",
      "  0.42416961  0.23218147]\n",
      "----------------Some timing tests---------------------\n",
      "My solver solved 100 100x100 in: 24.980617000000002 seconds\n",
      "numpy solved 100 100x100 in: 0.13017999999999574 seconds\n"
     ]
    }
   ],
   "source": [
    "import numpy as np\n",
    "def my_linearsolver(A,b):\n",
    "    '''solve the linear equations '''\n",
    "    n = len(A)   \n",
    "    #print (\"Rowcount is: {}\".format(n))\n",
    "    #print(\"Original Matrix is: \\n{}\".format(A))\n",
    "    \n",
    "    #construct the augmented matrix\n",
    "    #print(\"Shape of A: {}\".format(A.shape))\n",
    "    widthOfB=0\n",
    "    if b.ndim == 1:\n",
    "        widthOfB=1\n",
    "    else:\n",
    "        raise ValueError(\"This function is valid only for b as a column vector\")\n",
    "    M = np.zeros(shape=(n, len(A[0])+widthOfB ))\n",
    "    for x in range(n):\n",
    "        M[x] = np.append(A[x], b[x])\n",
    "    #print(\"Augmented Matrix is: \\n{}\".format(M))\n",
    "\n",
    "    #for each row\n",
    "    for i in range(n):\n",
    "        #print(\"i is: {}\".format(i))\n",
    "        maxEl = abs(M[i][i])\n",
    "        maxRow = i\n",
    "        #print(\"maxEl is: {} and maxRow is: {}\".format(maxEl, maxRow))\n",
    "        #go through the rest of the rows\n",
    "        for k in range(i+1, n):\n",
    "            #print(\"k is: {}\".format(k))\n",
    "            #check if the is bigger than the current max\n",
    "            if abs(M[k][i]) > maxEl:\n",
    "                #print(\"M[{}][{}]={} is greater than maxEl={}\".format(k,i,abs(M[k][i]),maxEl))\n",
    "                maxEl = abs(M[k][i])\n",
    "                maxRow = k\n",
    "        #swap the max row with the current row\n",
    "        #print(\"Swapping rows {} and {}\".format(maxRow, i))\n",
    "        for k in range(i, n+widthOfB):\n",
    "            tmp = M[maxRow][k]\n",
    "            M[maxRow][k] = M[i][k]\n",
    "            M[i][k] = tmp\n",
    "        #print(\"After row swap: \\n{}\".format(M))\n",
    "\n",
    "        # Make all rows below this one 0 in current column\n",
    "        for k in range(i+1, n):\n",
    "            c = -M[k][i]/M[i][i]\n",
    "            for j in range(i, n+widthOfB):\n",
    "                if i == j:\n",
    "                    M[k][j] = 0\n",
    "                else:\n",
    "                    M[k][j] += c * M[i][j]\n",
    "    #print(\"Presolved Matrix: \\n{}\".format(M))\n",
    "\n",
    "    # Solve equation Ax=b \n",
    "    x = np.zeros(shape=(b.shape))\n",
    "    for i in range(n-1, -1, -1):\n",
    "        #print(\"i is: {}, M[{}][{}] is: {}, M[{}][{}] is: {}, so x[{}] becomes {}\".format( i, i, n, M[i][n], i, i, M[i][i], i,  M[i][n]/M[i][i] ))\n",
    "        x[i] = M[i][n]/M[i][i]\n",
    "        for k in range(i-1, -1, -1):\n",
    "            #print(\"k is {}, M[{}][{}] is {}, x[{}] is {} so M[{}][{}] becomes {} - {}\".format( k, k,i, M[k][i], i, x[i], k,n, M[k][n], M[k][i] * x[i]     ))\n",
    "            M[k][n] -= M[k][i] * x[i]\n",
    "        #print(M)\n",
    "    return x  \n",
    "\n",
    "print(\"------------Testing 3x3-------------\")\n",
    "A = np.array([[3, 2, -4], [2, 3, 3], [5, -3, 1]])\n",
    "b = np.array([3, 15, 14])\n",
    "#should yield [3,1,2]\n",
    "print(\"My solver says: \\n{}\".format(my_linearsolver(A,b)))\n",
    "print(\"numpy says: \\n{}\".format(np.linalg.solve(A,b)))\n",
    "\n",
    "\n",
    "print(\"------------Testing 3x3-------------\")\n",
    "C = np.array([[1,2,1], [3,8,1], [0,4,1]])\n",
    "d = np.array([2,12,2])\n",
    "#should yield [2,1,-2]\n",
    "print(\"My solver says: \\n{}\".format(my_linearsolver(C,d)))\n",
    "print(\"numpy says: \\n{}\".format(np.linalg.solve(C,d)))\n",
    "\n",
    "\n",
    "print(\"------------Testing 2x2-------------\")\n",
    "E = np.array([[2,5], [1,3]])\n",
    "f = np.array([12,7])\n",
    "#should yield [1,2]\n",
    "print(\"My solver says: \\n{}\".format(my_linearsolver(E,f)))\n",
    "print(\"numpy says: \\n{}\".format(np.linalg.solve(E,f)))\n",
    "\n",
    "print(\"-----------A random 20x20--------------\")\n",
    "np.random.seed(42)\n",
    "E = np.random.rand(20,20)\n",
    "f = np.random.rand(20)\n",
    "print(\"My solver says: \\n{}\".format(my_linearsolver(E,f)))\n",
    "print(\"numpy says: \\n{}\".format(np.linalg.solve(E,f)))\n",
    "\n",
    "print(\"----------------Some timing tests---------------------\")\n",
    "import time\n",
    "start_time = time.clock()\n",
    "np.random.seed(42)\n",
    "for i in range(100):\n",
    "    E = np.random.rand(100,100)\n",
    "    f = np.random.rand(100)\n",
    "    my_linearsolver(E,f)\n",
    "print(\"My solver solved 100 100x100 in: {} seconds\".format( time.clock() - start_time ))\n",
    "\n",
    "start_time = time.clock()\n",
    "np.random.seed(42)\n",
    "for i in range(100):\n",
    "    E = np.random.rand(100,100)\n",
    "    f = np.random.rand(100)\n",
    "    np.linalg.solve(E,f)\n",
    "print(\"numpy solved 100 100x100 in: {} seconds\".format( time.clock() - start_time ))\n",
    "\n"
   ]
  },
  {
   "cell_type": "markdown",
   "metadata": {
    "collapsed": true
   },
   "source": [
    "# Matrix Inverse\n",
    "\n",
    "This should give the inverse of a matrix using the Gauss Jordan method. \n",
    "In this method we concatenate the matrix with an equal size identity matrix, then use row operations to reduce the original matrix to the identity, and in doing so will reveal the inverse on the right. \n",
    "\n",
    "This isn't checking for the matrix being singular, so expect some failure if your matrix isn't invertible. \n",
    "\n",
    "Also, by the timing tests at the end, you can see that this is horribly inefficient compared to numpy, so use this only for learning. "
   ]
  },
  {
   "cell_type": "code",
   "execution_count": 44,
   "metadata": {
    "scrolled": true
   },
   "outputs": [
    {
     "name": "stdout",
     "output_type": "stream",
     "text": [
      "A 2x2\n",
      "Numpy says the inverse is: \n",
      "[[ 7. -3.]\n",
      " [-2.  1.]]\n",
      "my_inverse says: \n",
      "[[ 7. -3.]\n",
      " [-2.  1.]]\n",
      "\n",
      "A 3x3\n",
      "Numpy says the inverse is: \n",
      "[[ 0.08219178  0.06849315  0.12328767]\n",
      " [ 0.0890411   0.15753425 -0.11643836]\n",
      " [-0.14383562  0.13013699  0.03424658]]\n",
      "my_inverse says: \n",
      "[[ 0.08219178  0.06849315  0.12328767]\n",
      " [ 0.0890411   0.15753425 -0.11643836]\n",
      " [-0.14383562  0.13013699  0.03424658]]\n",
      "\n",
      "A 4x4\n",
      "Numpy says the inverse is: \n",
      "[[ 0.74936061  0.33248082 -0.10230179 -0.70076726]\n",
      " [ 0.13043478  0.17391304 -0.13043478 -0.04347826]\n",
      " [-0.15601023  0.12531969  0.03836317  0.01278772]\n",
      " [-0.35549872 -0.14066496  0.1202046   0.37340153]]\n",
      "my_inverse says: \n",
      "[[ 0.74936061  0.33248082 -0.10230179 -0.70076726]\n",
      " [ 0.13043478  0.17391304 -0.13043478 -0.04347826]\n",
      " [-0.15601023  0.12531969  0.03836317  0.01278772]\n",
      " [-0.35549872 -0.14066496  0.1202046   0.37340153]]\n",
      "\n",
      "Solve Ax=b with the inverse formula x=inv(A)B\n",
      "numpy says: \n",
      "[ 3.  1.  2.]\n",
      "Inverse method says:\n",
      "[ 3.  1.  2.]\n",
      "----------------Some timing tests---------------------\n",
      "My inverse inverted 100 100x100 in: 94.708958 seconds\n",
      "numpy inverted 100 100x100 in: 0.1725370000000339 seconds\n"
     ]
    }
   ],
   "source": [
    "import numpy as np\n",
    "\n",
    "def my_inverse(A):\n",
    "    '''returns the gauss jordan inverse matrix'''\n",
    "    n = len(A)\n",
    "    #get an identity matrix to augment with\n",
    "    I = np.identity(n)\n",
    "    \n",
    "    M = np.concatenate((A, I), axis=1)\n",
    "    #print(\"Augmented matrix is: \\n{}\".format(M))\n",
    "    \n",
    "    #here we use the gaussian elimination from the linear solver before to zero the lower triangle\n",
    "    #for each row\n",
    "    for i in range(n):\n",
    "        #print(\"i is: {}\".format(i))\n",
    "        maxEl = abs(M[i][i])\n",
    "        maxRow = i\n",
    "        #print(\"maxEl is: {} and maxRow is: {}\".format(maxEl, maxRow))\n",
    "        #go through the rest of the rows\n",
    "        for k in range(i+1, n):\n",
    "            #print(\"k is: {}\".format(k))\n",
    "            #check if the is bigger than the current max\n",
    "            if abs(M[k][i]) > maxEl:\n",
    "                #print(\"M[{}][{}]={} is greater than maxEl={}\".format(k,i,abs(M[k][i]),maxEl))\n",
    "                maxEl = abs(M[k][i])\n",
    "                maxRow = k\n",
    "        #swap the max row with the current row\n",
    "        #print(\"Swapping rows {} and {}\".format(maxRow, i))\n",
    "        for k in range(i, n+n):\n",
    "            tmp = M[maxRow][k]\n",
    "            M[maxRow][k] = M[i][k]\n",
    "            M[i][k] = tmp\n",
    "        #print(\"After row swap: \\n{}\".format(M))\n",
    "\n",
    "        # Make all rows below this one 0 in current column\n",
    "        for k in range(i+1, n):\n",
    "            c = -M[k][i]/M[i][i]\n",
    "            for j in range(i, n+n):\n",
    "                if i == j:\n",
    "                    M[k][j] = 0\n",
    "                else:\n",
    "                    M[k][j] += c * M[i][j]\n",
    "    #print(\"Solved for Upper Triangle: \\n{}\".format(M))\n",
    "    \n",
    "    #backward up the rows, to eliminate the upper triangle\n",
    "    for i in range(n-1,0, -1):\n",
    "        #print(\"Base row {}\".format(i))\n",
    "        # Make all rows above this one 0 in current column\n",
    "        for k in range(i-1, -1, -1):\n",
    "            #print(\"Elim row {}\".format(k))\n",
    "            c = -M[k][i]/M[i][i]\n",
    "            for j in range(i, n+n):\n",
    "                if i == j:\n",
    "                    M[k][j] = 0\n",
    "                else:\n",
    "                    M[k][j] += c * M[i][j]\n",
    "    #print(\"Upper Triangle also solved: \\n{}\".format(M))\n",
    "    \n",
    "    #again through the rows to divide each row by it's pivot so we have identity in the pivot points\n",
    "    for i in range(n):\n",
    "        piv = M[i][i]\n",
    "        for j in range (i,n+n):\n",
    "            M[i][j] = M[i][j] / piv\n",
    "    #print(\"Reduced Row Echelon: \\n{}\".format(M))\n",
    "    \n",
    "    #construct the return matrix\n",
    "    retMat = np.zeros(shape=(n, n))\n",
    "    for i in range(n):\n",
    "        for j in range(n):\n",
    "            retMat[i][j]=M[i][j+n]\n",
    "    return retMat\n",
    "\n",
    "print(\"A 2x2\")\n",
    "A = np.array([[1,3], [2, 7]])\n",
    "print(\"Numpy says the inverse is: \\n{}\".format(np.linalg.inv(A)))\n",
    "print(\"my_inverse says: \\n{}\".format(my_inverse(A)))\n",
    "print(\"\\nA 3x3\")\n",
    "A = np.array([[3, 2, -4], [2, 3, 3], [5, -3, 1]])\n",
    "print(\"Numpy says the inverse is: \\n{}\".format(np.linalg.inv(A)))\n",
    "print(\"my_inverse says: \\n{}\".format(my_inverse(A)))\n",
    "print(\"\\nA 4x4\")\n",
    "A = np.array([[3, 2, -4, 6], [2, 3, 3, 4], [5, -3, 1, 9],[2,4,-3,7]])\n",
    "print(\"Numpy says the inverse is: \\n{}\".format(np.linalg.inv(A)))\n",
    "print(\"my_inverse says: \\n{}\".format(my_inverse(A)))\n",
    "\n",
    "print(\"\\nSolve Ax=b with the inverse formula x=inv(A)B\")\n",
    "A = np.array([[3, 2, -4], [2, 3, 3], [5, -3, 1]])\n",
    "b = np.array([3, 15, 14])\n",
    "#should yield [3,1,2]\n",
    "print(\"numpy says: \\n{}\".format(np.linalg.solve(A,b)))\n",
    "print(\"Inverse method says:\\n{}\".format( np.dot(my_inverse(A),b)  ))\n",
    "\n",
    "\n",
    "print(\"----------------Some timing tests---------------------\")\n",
    "import time\n",
    "start_time = time.clock()\n",
    "np.random.seed(42)\n",
    "for i in range(100):\n",
    "    E = np.random.rand(100,100)\n",
    "    my_inverse(E)\n",
    "print(\"My inverse inverted 100 100x100 in: {} seconds\".format( time.clock() - start_time ))\n",
    "\n",
    "start_time = time.clock()\n",
    "np.random.seed(42)\n",
    "for i in range(100):\n",
    "    E = np.random.rand(100,100)\n",
    "    np.linalg.inv(E)\n",
    "print(\"numpy inverted 100 100x100 in: {} seconds\".format( time.clock() - start_time ))"
   ]
  },
  {
   "cell_type": "markdown",
   "metadata": {
    "collapsed": true
   },
   "source": [
    "# A= LU factorization\n",
    "Here we factor the matrix A into lower and upper triangles, L and U. \n",
    "Then you can do the trick of Lc=b and Ux = c to solve for x. \n",
    "\n",
    "This is, in theory, computationally more efficient than the previous methods. \n",
    "\n",
    "I'm going from the MATLAB code from the book, which is close to http://web.mit.edu/18.06/www/Course-Info/Mfiles/slu.m. I converted to python. \n",
    "\n",
    "Here, I am using deepcopy to preserve the original copies for the testing purposes, but if you were worried about computational/memory intensity you wouldn't deepcopy. "
   ]
  },
  {
   "cell_type": "code",
   "execution_count": 65,
   "metadata": {},
   "outputs": [
    {
     "name": "stdout",
     "output_type": "stream",
     "text": [
      "--------LU Factoring-----------\n",
      "L and U are: \n",
      "(array([[ 1.        ,  0.        ,  0.        ],\n",
      "       [ 0.5       ,  1.        ,  0.        ],\n",
      "       [ 0.        ,  0.66666667,  1.        ]]), array([[ 2.        ,  1.        ,  0.        ],\n",
      "       [ 0.        ,  1.5       ,  1.        ],\n",
      "       [ 0.        ,  0.        ,  1.33333333]]))\n",
      "----------------A known 3x3---------------------\n",
      "My solver says: \n",
      "[ 3.  1.  2.]\n",
      "numpy says: \n",
      "[ 3.  1.  2.]\n",
      "----------------A random 10x10---------------------\n",
      "My solver says: \n",
      "[-1.01269542 -1.4383189   1.92334288  1.216233   -2.05633017  0.75820865\n",
      "  1.64963394 -1.47380018  1.50250928  0.17271319]\n",
      "numpy says: \n",
      "[-1.01269542 -1.4383189   1.92334288  1.216233   -2.05633017  0.75820865\n",
      "  1.64963394 -1.47380018  1.50250928  0.17271319]\n",
      "----------------Some timing tests---------------------\n",
      "My solver solved 100 100x100 in: 33.02124199999997 seconds\n",
      "numpy solved 100 100x100 in: 0.13359700000000885 seconds\n"
     ]
    }
   ],
   "source": [
    "import numpy as np\n",
    "from copy import deepcopy\n",
    "def slu(A):\n",
    "    '''Square LU factorization with no row exchanges'''\n",
    "    A = deepcopy(A)\n",
    "    n = len(A)\n",
    "    tol = 1.0E-6\n",
    "    L = np.zeros(shape=(n, n))\n",
    "    U = np.zeros(shape=(n, n))\n",
    "    for k in range(n):\n",
    "        #if zero found in pivot, error out\n",
    "        if np.abs(A[k][k]) < tol:\n",
    "            raise ValueError(\"Can't go on without row exchange.\")\n",
    "        L[k][k] = 1 #The L matrix automatically gets 1's in the pivot points.\n",
    "        for i in range(k+1,n):\n",
    "            L[i][k] = A[i][k] / A[k][k]\n",
    "            for j in range(k+1, n):\n",
    "                A[i][j] = A[i][j] - (L[i][k]*A[k][j])\n",
    "        for j in range(k, n):\n",
    "            U[k][j] = A[k][j]\n",
    "    return (L,U)\n",
    "                \n",
    "def slv(A, b):\n",
    "    '''solves Ax=b using L and U'''\n",
    "    A = deepcopy(A) \n",
    "    b = deepcopy(b)\n",
    "    n = len(A)\n",
    "    L,U = slu(A)\n",
    "    c = np.zeros(shape=(n))\n",
    "    x = np.zeros(shape=(n))\n",
    "    s = 0  \n",
    "    #first loop solves Lc=b\n",
    "    for k in range(n):\n",
    "        for j in range(k):\n",
    "            s = s + L[k][j] * c[j]\n",
    "        c[k] = b[k] - s\n",
    "        s = 0\n",
    "    #second loop solves Ux=b\n",
    "    for k in range(n-1, -1, -1):\n",
    "        t = 0\n",
    "        for j in range(k+1, n):\n",
    "            t = t + U[k][j]*x[j]\n",
    "        x[k] = (c[k]-t) / U[k][k]\n",
    "    return x\n",
    "\n",
    "\n",
    "print(\"--------LU Factoring-----------\")\n",
    "A = np.array([[2.,1.,0.], [1.,2.,1.], [0.,1.,2.]])\n",
    "print(\"L and U are: \\n{}\".format(slu(A)))\n",
    "\n",
    "print(\"----------------A known 3x3---------------------\")\n",
    "A = np.array([[3., 2., -4.], [2., 3., 3.], [5., -3., 1.]])\n",
    "b = np.array([3., 15., 14.])\n",
    "#should yield [3,1,2]\n",
    "print(\"My solver says: \\n{}\".format(slv(A,b)))\n",
    "print(\"numpy says: \\n{}\".format(np.linalg.solve(A,b)))\n",
    "\n",
    "print(\"----------------A random 10x10---------------------\")\n",
    "np.random.seed(42)\n",
    "E = np.random.rand(10,10)\n",
    "f = np.random.rand(10)\n",
    "print(\"My solver says: \\n{}\".format(slv(E,f)))\n",
    "print(\"numpy says: \\n{}\".format(np.linalg.solve(E,f)))\n",
    "\n",
    "print(\"----------------Some timing tests---------------------\")\n",
    "import time\n",
    "start_time = time.clock()\n",
    "np.random.seed(42)\n",
    "for i in range(100):\n",
    "    E = np.random.rand(100,100)\n",
    "    f = np.random.rand(100)\n",
    "    slv(E,f)\n",
    "print(\"My solver solved 100 100x100 in: {} seconds\".format( time.clock() - start_time ))\n",
    "\n",
    "start_time = time.clock()\n",
    "np.random.seed(42)\n",
    "for i in range(100):\n",
    "    E = np.random.rand(100,100)\n",
    "    f = np.random.rand(100)\n",
    "    np.linalg.solve(E,f)\n",
    "print(\"numpy solved 100 100x100 in: {} seconds\".format( time.clock() - start_time ))\n",
    "\n",
    "\n",
    "        "
   ]
  },
  {
   "cell_type": "markdown",
   "metadata": {},
   "source": [
    "# Matrix Transpose\n",
    "\n",
    "Swap the rows for the columns."
   ]
  },
  {
   "cell_type": "code",
   "execution_count": 69,
   "metadata": {},
   "outputs": [
    {
     "name": "stdout",
     "output_type": "stream",
     "text": [
      "The matrix:\n",
      "[[1 3]\n",
      " [2 7]]\n",
      "The transpose:\n",
      "[[1 2]\n",
      " [3 7]]\n",
      "The matrix:\n",
      "[[ 3  2 -4  6]\n",
      " [ 2  3  3  4]\n",
      " [ 5 -3  1  9]\n",
      " [ 2  4 -3  7]]\n",
      "The transpose:\n",
      "[[ 3  2  5  2]\n",
      " [ 2  3 -3  4]\n",
      " [-4  3  1 -3]\n",
      " [ 6  4  9  7]]\n"
     ]
    }
   ],
   "source": [
    "import numpy\n",
    "#easy in numpy\n",
    "A = np.array([[1,3], [2, 7]])\n",
    "print(\"The matrix:\")\n",
    "print(A)\n",
    "print(\"The transpose:\")\n",
    "print(np.matrix.transpose(A))\n",
    "A = np.array([[3, 2, -4, 6], [2, 3, 3, 4], [5, -3, 1, 9],[2,4,-3,7]])\n",
    "print(\"The matrix:\")\n",
    "print(A)\n",
    "print(\"The transpose:\")\n",
    "print(np.matrix.transpose(A))"
   ]
  },
  {
   "cell_type": "code",
   "execution_count": 70,
   "metadata": {},
   "outputs": [
    {
     "name": "stdout",
     "output_type": "stream",
     "text": [
      "The matrix:\n",
      "[[1 3]\n",
      " [2 7]]\n",
      "The transpose:\n",
      "[[ 1.  2.]\n",
      " [ 3.  7.]]\n",
      "The matrix:\n",
      "[[ 3  2 -4  6]\n",
      " [ 2  3  3  4]\n",
      " [ 5 -3  1  9]\n",
      " [ 2  4 -3  7]]\n",
      "The transpose:\n",
      "[[ 3.  2.  5.  2.]\n",
      " [ 2.  3. -3.  4.]\n",
      " [-4.  3.  1. -3.]\n",
      " [ 6.  4.  9.  7.]]\n"
     ]
    }
   ],
   "source": [
    "import numpy\n",
    "def my_transpose(A):\n",
    "    n = len(A)\n",
    "    w = len(A[0])\n",
    "    \n",
    "    At = np.zeros(shape=(w,n))\n",
    "    for i in range(n):\n",
    "        for j in range(w):\n",
    "            At[i][j] = A[j][i]\n",
    "    return At\n",
    "\n",
    "A = np.array([[1,3], [2, 7]])\n",
    "print(\"The matrix:\")\n",
    "print(A)\n",
    "print(\"The transpose:\")\n",
    "print(my_transpose(A))\n",
    "A = np.array([[3, 2, -4, 6], [2, 3, 3, 4], [5, -3, 1, 9],[2,4,-3,7]])\n",
    "print(\"The matrix:\")\n",
    "print(A)\n",
    "print(\"The transpose:\")\n",
    "print(my_transpose(A))"
   ]
  },
  {
   "cell_type": "markdown",
   "metadata": {},
   "source": [
    "# Matrix symmetry\n",
    "\n",
    "Check that a matrix is symmetric. This uses the property that symmetric matrices are equal to their transpose. The tolerance stuff is to get around some wiggle in floats. "
   ]
  },
  {
   "cell_type": "code",
   "execution_count": 80,
   "metadata": {},
   "outputs": [
    {
     "name": "stdout",
     "output_type": "stream",
     "text": [
      "True\n",
      "False\n"
     ]
    }
   ],
   "source": [
    "import numpy\n",
    "\n",
    "#do this in numpy\n",
    "A = np.array([[3, 1, 7], [1, 2, 9], [7, 9, 4]])\n",
    "print( numpy.allclose(A, A.T, atol=1e-8) )\n",
    "\n",
    "B = np.array([[3, 1, 7], [1, 2, 9], [7, 7, 4]])\n",
    "print( numpy.allclose(B, B.T, atol=1e-8) )"
   ]
  },
  {
   "cell_type": "code",
   "execution_count": null,
   "metadata": {
    "collapsed": true
   },
   "outputs": [],
   "source": []
  }
 ],
 "metadata": {
  "kernelspec": {
   "display_name": "Python [default]",
   "language": "python",
   "name": "python3"
  },
  "language_info": {
   "codemirror_mode": {
    "name": "ipython",
    "version": 3
   },
   "file_extension": ".py",
   "mimetype": "text/x-python",
   "name": "python",
   "nbconvert_exporter": "python",
   "pygments_lexer": "ipython3",
   "version": "3.6.3"
  }
 },
 "nbformat": 4,
 "nbformat_minor": 2
}
