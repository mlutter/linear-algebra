{
 "cells": [
  {
   "cell_type": "code",
   "execution_count": 27,
   "metadata": {},
   "outputs": [],
   "source": [
    "import numpy as np\n",
    "\n",
    "matA = np.array([[1,0,0],[-3,1,0],[0,0,1]])\n",
    "matB = np.array([[1,2,1],[3,8,1],[0,4,1]])\n"
   ]
  },
  {
   "cell_type": "markdown",
   "metadata": {},
   "source": [
    "# Matrix Multiplication"
   ]
  },
  {
   "cell_type": "code",
   "execution_count": 28,
   "metadata": {
    "scrolled": true
   },
   "outputs": [
    {
     "name": "stdout",
     "output_type": "stream",
     "text": [
      "[[ 1  2  1]\n",
      " [ 0  2 -2]\n",
      " [ 0  4  1]]\n"
     ]
    }
   ],
   "source": [
    "#The numpy easy way\n",
    "print(np.dot(matA, matB))\n"
   ]
  },
  {
   "cell_type": "code",
   "execution_count": 32,
   "metadata": {},
   "outputs": [
    {
     "name": "stdout",
     "output_type": "stream",
     "text": [
      "[[ 1.  2.  1.]\n",
      " [ 0.  2. -2.]\n",
      " [ 0.  4.  1.]]\n"
     ]
    }
   ],
   "source": [
    "#reinventing the wheel\n",
    "def my_matrix_multiply(A, B):\n",
    "    '''Multiply two matrices'''\n",
    "    numRowA = len(A)\n",
    "    numColA = len(A[0])\n",
    "    numRowB = len(B)\n",
    "    numColB = len(B[0])   \n",
    "    \n",
    "    #requirement for multiplication is the number of columns of A must match the number of rows of B\n",
    "    if numColA != numRowB:\n",
    "        print(\"Error multiplying: Columns of A do not equal rows of B\")\n",
    "        return\n",
    "    \n",
    "    #If A is m by n and B is n by p then C will be m by p. \n",
    "    #or, basically, the number of rows from A and the number of columns from B\n",
    "    C = np.zeros(shape=(numRowA, numColB))\n",
    "    \n",
    "    #Then, any C[i][j] will be the sum of the row i from A and col j from B\n",
    "    for i in range(numRowA):\n",
    "        for j in range(numColB):\n",
    "            for k in range(numColA):\n",
    "                C[i][j] += A[i][k] * B[k][j]\n",
    "    return C\n",
    "\n",
    "print(my_matrix_multiply(matA, matB))\n"
   ]
  },
  {
   "cell_type": "markdown",
   "metadata": {},
   "source": [
    "# Identity Matrix"
   ]
  },
  {
   "cell_type": "code",
   "execution_count": 33,
   "metadata": {},
   "outputs": [
    {
     "name": "stdout",
     "output_type": "stream",
     "text": [
      "[[ 1.  0.  0.]\n",
      " [ 0.  1.  0.]\n",
      " [ 0.  0.  1.]]\n"
     ]
    }
   ],
   "source": [
    "print( np.identity(3))"
   ]
  },
  {
   "cell_type": "code",
   "execution_count": 37,
   "metadata": {},
   "outputs": [
    {
     "name": "stdout",
     "output_type": "stream",
     "text": [
      "[[ 1.  0.  0.  0.]\n",
      " [ 0.  1.  0.  0.]\n",
      " [ 0.  0.  1.  0.]\n",
      " [ 0.  0.  0.  1.]]\n"
     ]
    }
   ],
   "source": [
    "def my_identity(size):\n",
    "    '''generate identity matrix of parameter size'''\n",
    "    C = np.zeros(shape=(size, size))\n",
    "    for row in range(size):\n",
    "        C[row][row]=1\n",
    "    return C\n",
    "print( my_identity(4))"
   ]
  },
  {
   "cell_type": "markdown",
   "metadata": {},
   "source": [
    "# Linear Equations\n",
    "This solves a system of equations (n equations in n unknowns) of Ax = b where: \n",
    "* A is the coefficient matrix of size n by n \n",
    "* x is an unknown column vector \n",
    "* b is a known column vector. \n",
    "\n",
    "This is pretty tough to understand so it is heavily sprinkled with comments and debugging prints. \n",
    "Also, super inefficient, so don't really use this. "
   ]
  },
  {
   "cell_type": "code",
   "execution_count": 42,
   "metadata": {},
   "outputs": [
    {
     "name": "stdout",
     "output_type": "stream",
     "text": [
      "My solver says: \n",
      "[ 3.  1.  2.]\n",
      "numpy says: \n",
      "[ 3.  1.  2.]\n",
      "-------------------------\n",
      "My solver says: \n",
      "[ 2.  1. -2.]\n",
      "numpy says: \n",
      "[ 2.  1. -2.]\n",
      "-------------------------\n",
      "My solver says: \n",
      "[ 1.  2.]\n",
      "numpy says: \n",
      "[ 1.  2.]\n",
      "-------------------------\n",
      "My solver says: \n",
      "[-0.20828059 -0.40664065 -0.36293332 -0.26176512  0.11602893  0.6020817\n",
      " -0.02981623  0.74717283  0.48120409  0.26134339  0.48016756 -0.2804258\n",
      "  0.35941802 -0.77387085  0.26656988 -0.14151787  0.36810365 -0.9524231\n",
      "  0.42416961  0.23218147]\n",
      "numpy says: \n",
      "[-0.20828059 -0.40664065 -0.36293332 -0.26176512  0.11602893  0.6020817\n",
      " -0.02981623  0.74717283  0.48120409  0.26134339  0.48016756 -0.2804258\n",
      "  0.35941802 -0.77387085  0.26656988 -0.14151787  0.36810365 -0.9524231\n",
      "  0.42416961  0.23218147]\n",
      "My solver solved 100 100x100 in: 25.163984999999997 seconds\n",
      "numpy solved 100 100x100 in: 0.19637799999999572 seconds\n"
     ]
    }
   ],
   "source": [
    "import numpy as np\n",
    "def my_linearsolver(A,b):\n",
    "    n = len(A)   \n",
    "    #print (\"Rowcount is: {}\".format(n))\n",
    "    #print(\"Original Matrix is: \\n{}\".format(A))\n",
    "    \n",
    "    #construct the augmented matrix\n",
    "    #print(\"Shape of A: {}\".format(A.shape))\n",
    "    widthOfB=0\n",
    "    if b.ndim == 1:\n",
    "        widthOfB=1\n",
    "    else:\n",
    "        raise ValueError(\"This function is valid only for b as a column vector\")\n",
    "    M = np.zeros(shape=(n, len(A[0])+widthOfB ))\n",
    "    for x in range(n):\n",
    "        M[x] = np.append(A[x], b[x])\n",
    "    #print(\"Augmented Matrix is: \\n{}\".format(M))\n",
    "\n",
    "    #for each row\n",
    "    for i in range(n):\n",
    "        #print(\"i is: {}\".format(i))\n",
    "        maxEl = abs(M[i][i])\n",
    "        maxRow = i\n",
    "        #print(\"maxEl is: {} and maxRow is: {}\".format(maxEl, maxRow))\n",
    "        #go through the rest of the rows\n",
    "        for k in range(i+1, n):\n",
    "            #print(\"k is: {}\".format(k))\n",
    "            #check if the is bigger than the current max\n",
    "            if abs(M[k][i]) > maxEl:\n",
    "                #print(\"M[{}][{}]={} is greater than maxEl={}\".format(k,i,abs(M[k][i]),maxEl))\n",
    "                maxEl = abs(M[k][i])\n",
    "                maxRow = k\n",
    "        #swap the max row with the current row\n",
    "        #print(\"Swapping rows {} and {}\".format(maxRow, i))\n",
    "        for k in range(i, n+widthOfB):\n",
    "            tmp = M[maxRow][k]\n",
    "            M[maxRow][k] = M[i][k]\n",
    "            M[i][k] = tmp\n",
    "        #print(\"After row swap: \\n{}\".format(M))\n",
    "\n",
    "        # Make all rows below this one 0 in current column\n",
    "        for k in range(i+1, n):\n",
    "            c = -M[k][i]/M[i][i]\n",
    "            for j in range(i, n+widthOfB):\n",
    "                if i == j:\n",
    "                    M[k][j] = 0\n",
    "                else:\n",
    "                    M[k][j] += c * M[i][j]\n",
    "    #print(\"Presolved Matrix: \\n{}\".format(M))\n",
    "\n",
    "    # Solve equation Ax=b \n",
    "    x = np.zeros(shape=(b.shape))\n",
    "    for i in range(n-1, -1, -1):\n",
    "        #print(\"i is: {}, M[{}][{}] is: {}, M[{}][{}] is: {}, so x[{}] becomes {}\".format( i, i, n, M[i][n], i, i, M[i][i], i,  M[i][n]/M[i][i] ))\n",
    "        x[i] = M[i][n]/M[i][i]\n",
    "        for k in range(i-1, -1, -1):\n",
    "            #print(\"k is {}, M[{}][{}] is {}, x[{}] is {} so M[{}][{}] becomes {} - {}\".format( k, k,i, M[k][i], i, x[i], k,n, M[k][n], M[k][i] * x[i]     ))\n",
    "            M[k][n] -= M[k][i] * x[i]\n",
    "        #print(M)\n",
    "    return x  \n",
    "\n",
    "print(\"------------Testing 3x3-------------\")\n",
    "A = np.array([[3, 2, -4], [2, 3, 3], [5, -3, 1]])\n",
    "b = np.array([3, 15, 14])\n",
    "#should yield [3,1,2]\n",
    "print(\"My solver says: \\n{}\".format(my_linearsolver(A,b)))\n",
    "print(\"numpy says: \\n{}\".format(np.linalg.solve(A,b)))\n",
    "\n",
    "\n",
    "print(\"------------Testing 3x3-------------\")\n",
    "C = np.array([[1,2,1], [3,8,1], [0,4,1]])\n",
    "d = np.array([2,12,2])\n",
    "#should yield [2,1,-2]\n",
    "print(\"My solver says: \\n{}\".format(my_linearsolver(C,d)))\n",
    "print(\"numpy says: \\n{}\".format(np.linalg.solve(C,d)))\n",
    "\n",
    "\n",
    "print(\"------------Testing 2x2-------------\")\n",
    "E = np.array([[2,5], [1,3]])\n",
    "f = np.array([12,7])\n",
    "#should yield [1,2]\n",
    "print(\"My solver says: \\n{}\".format(my_linearsolver(E,f)))\n",
    "print(\"numpy says: \\n{}\".format(np.linalg.solve(E,f)))\n",
    "\n",
    "print(\"-----------A random 20x20--------------\")\n",
    "np.random.seed(42)\n",
    "E = np.random.rand(20,20)\n",
    "f = np.random.rand(20)\n",
    "print(\"My solver says: \\n{}\".format(my_linearsolver(E,f)))\n",
    "print(\"numpy says: \\n{}\".format(np.linalg.solve(E,f)))\n",
    "\n",
    "print(\"----------------Some timing tests---------------------\")\n",
    "import time\n",
    "start_time = time.clock()\n",
    "np.random.seed(42)\n",
    "for i in range(100):\n",
    "    E = np.random.rand(100,100)\n",
    "    f = np.random.rand(100)\n",
    "    my_linearsolver(E,f)\n",
    "print(\"My solver solved 100 100x100 in: {} seconds\".format( time.clock() - start_time ))\n",
    "\n",
    "start_time = time.clock()\n",
    "np.random.seed(42)\n",
    "for i in range(100):\n",
    "    E = np.random.rand(100,100)\n",
    "    f = np.random.rand(100)\n",
    "    np.linalg.solve(E,f)\n",
    "print(\"numpy solved 100 100x100 in: {} seconds\".format( time.clock() - start_time ))\n",
    "\n"
   ]
  },
  {
   "cell_type": "code",
   "execution_count": null,
   "metadata": {
    "collapsed": true
   },
   "outputs": [],
   "source": []
  }
 ],
 "metadata": {
  "kernelspec": {
   "display_name": "Python [default]",
   "language": "python",
   "name": "python3"
  },
  "language_info": {
   "codemirror_mode": {
    "name": "ipython",
    "version": 3
   },
   "file_extension": ".py",
   "mimetype": "text/x-python",
   "name": "python",
   "nbconvert_exporter": "python",
   "pygments_lexer": "ipython3",
   "version": "3.6.3"
  }
 },
 "nbformat": 4,
 "nbformat_minor": 2
}
