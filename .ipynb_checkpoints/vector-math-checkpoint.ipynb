{
 "cells": [
  {
   "cell_type": "markdown",
   "metadata": {},
   "source": [
    "# Vector Math\n",
    "\n",
    "## Here I am recreating the math from section 1.1 and 1.2 of the book."
   ]
  },
  {
   "cell_type": "code",
   "execution_count": 3,
   "metadata": {
    "collapsed": true
   },
   "outputs": [],
   "source": [
    "import numpy as np\n",
    "\n",
    "#set up some vectors\n",
    "v = np.array([4,2])\n",
    "w = np.array([-1,2])\n",
    "p = np.array([3, 7, -4])\n",
    "q = np.array([2, -6, 3])"
   ]
  },
  {
   "cell_type": "markdown",
   "metadata": {},
   "source": [
    "# Vector Addition"
   ]
  },
  {
   "cell_type": "code",
   "execution_count": 15,
   "metadata": {
    "scrolled": true
   },
   "outputs": [
    {
     "name": "stdout",
     "output_type": "stream",
     "text": [
      "2d addition: [3 4]\n",
      "3d addition: [ 5  1 -1]\n"
     ]
    }
   ],
   "source": [
    "#standard numpy way of addition\n",
    "print(\"2d addition: {}\".format( v+w ))\n",
    "print(\"3d addition: {}\".format( p+q ))"
   ]
  },
  {
   "cell_type": "code",
   "execution_count": 16,
   "metadata": {},
   "outputs": [
    {
     "name": "stdout",
     "output_type": "stream",
     "text": [
      "2d addition: [ 3.  4.]\n",
      "3d addition: [ 5.  1. -1.]\n"
     ]
    }
   ],
   "source": [
    "#re-invent the wheel, the hard way\n",
    "def my_vector_addition(a, b):\n",
    "    '''Adding two equal dimension vectors'''\n",
    "    result_vector = np.empty(len(a))\n",
    "    for dim in range(len(a)):\n",
    "        result_vector[dim] = a[dim] + b[dim]\n",
    "    return result_vector\n",
    "print(\"2d addition: {}\".format( my_vector_addition(v,w)))\n",
    "print(\"3d addition: {}\".format( my_vector_addition(p,q)))"
   ]
  },
  {
   "cell_type": "markdown",
   "metadata": {},
   "source": [
    "# Vector Subtraction"
   ]
  },
  {
   "cell_type": "code",
   "execution_count": 18,
   "metadata": {},
   "outputs": [
    {
     "name": "stdout",
     "output_type": "stream",
     "text": [
      "2d subtraction: [5 0]\n",
      "3d subtraction: [ 1 13 -7]\n"
     ]
    }
   ],
   "source": [
    "#standard numpy way of subtraction\n",
    "print(\"2d subtraction: {}\".format( v-w ))\n",
    "print(\"3d subtraction: {}\".format( p-q ))"
   ]
  },
  {
   "cell_type": "code",
   "execution_count": 19,
   "metadata": {},
   "outputs": [
    {
     "name": "stdout",
     "output_type": "stream",
     "text": [
      "2d subtraction: [ 5.  0.]\n",
      "3d subtraction: [  1.  13.  -7.]\n"
     ]
    }
   ],
   "source": [
    "#re-invent the wheel, the hard way\n",
    "def my_vector_subtraction(a, b):\n",
    "    '''Adding two equal dimension vectors'''\n",
    "    result_vector = np.empty(len(a))\n",
    "    for dim in range(len(a)):\n",
    "        result_vector[dim] = a[dim] - b[dim]\n",
    "    return result_vector\n",
    "print(\"2d subtraction: {}\".format( my_vector_subtraction(v,w)))\n",
    "print(\"3d subtraction: {}\".format( my_vector_subtraction(p,q)))"
   ]
  },
  {
   "cell_type": "markdown",
   "metadata": {},
   "source": [
    "# Scalar Multiplication"
   ]
  },
  {
   "cell_type": "code",
   "execution_count": 21,
   "metadata": {
    "scrolled": true
   },
   "outputs": [
    {
     "name": "stdout",
     "output_type": "stream",
     "text": [
      "2 times vector v:[8 4]\n",
      "4 times vector p:[ 12  28 -16]\n"
     ]
    }
   ],
   "source": [
    "#numpy doing scalar multiplication\n",
    "print( \"2 times vector v:{}\".format( 2 * v))\n",
    "print( \"4 times vector p:{}\".format( 4 * p))"
   ]
  },
  {
   "cell_type": "code",
   "execution_count": 22,
   "metadata": {},
   "outputs": [
    {
     "name": "stdout",
     "output_type": "stream",
     "text": [
      "2 times vector v:[ 8.  4.]\n",
      "4 times vector p:[ 12.  28. -16.]\n"
     ]
    }
   ],
   "source": [
    "#scalar multiplication, re-invented\n",
    "def my_scalar_multiplication(a, v):\n",
    "    '''Scalar multiplication of scalar a times vector v'''\n",
    "    result_vector = np.empty(len(v))\n",
    "    for dim in range(len(v)):\n",
    "        result_vector[dim] = v[dim] * a\n",
    "    return result_vector\n",
    "print( \"2 times vector v:{}\".format( my_scalar_multiplication(2, v)))\n",
    "print( \"4 times vector p:{}\".format( my_scalar_multiplication(4, p)))"
   ]
  },
  {
   "cell_type": "markdown",
   "metadata": {},
   "source": [
    "# Dot Product"
   ]
  },
  {
   "cell_type": "code",
   "execution_count": 23,
   "metadata": {},
   "outputs": [
    {
     "name": "stdout",
     "output_type": "stream",
     "text": [
      "Dot product of v dot w: 0\n",
      "Dot product of p dot q: -48\n"
     ]
    }
   ],
   "source": [
    "#numpy dot product\n",
    "print(\"Dot product of v dot w: {}\".format(np.dot(v,w)))\n",
    "print(\"Dot product of p dot q: {}\".format(np.dot(p,q)))"
   ]
  },
  {
   "cell_type": "code",
   "execution_count": 24,
   "metadata": {},
   "outputs": [
    {
     "name": "stdout",
     "output_type": "stream",
     "text": [
      "Dot product of v dot w: 0\n",
      "Dot product of p dot q: -48\n"
     ]
    }
   ],
   "source": [
    "#re-inventing the dot product\n",
    "def my_dot_product(a, b):\n",
    "    '''Dot product of a dot b'''\n",
    "    sum_of_components = 0\n",
    "    for dim in range(len(a)):\n",
    "        sum_of_components = sum_of_components + a[dim] * b[dim]\n",
    "    return sum_of_components\n",
    "print(\"Dot product of v dot w: {}\".format(my_dot_product(v,w)))\n",
    "print(\"Dot product of p dot q: {}\".format(my_dot_product(p,q)))"
   ]
  },
  {
   "cell_type": "markdown",
   "metadata": {},
   "source": [
    "# Length of a vector"
   ]
  },
  {
   "cell_type": "code",
   "execution_count": 25,
   "metadata": {},
   "outputs": [
    {
     "name": "stdout",
     "output_type": "stream",
     "text": [
      "Length of vector v: 4.47213595499958\n",
      "Length of vector p: 8.602325267042627\n"
     ]
    }
   ],
   "source": [
    "#the numpy way to get length\n",
    "print(\"Length of vector v: {}\".format(np.linalg.norm(v)))\n",
    "print(\"Length of vector p: {}\".format(np.linalg.norm(p)))"
   ]
  },
  {
   "cell_type": "code",
   "execution_count": 27,
   "metadata": {},
   "outputs": [
    {
     "name": "stdout",
     "output_type": "stream",
     "text": [
      "Length of vector v: 4.47213595499958\n",
      "Length of vector p: 8.602325267042627\n"
     ]
    }
   ],
   "source": [
    "#vector length is defined as the square root of the vector dot itself\n",
    "import math\n",
    "def my_length_of_vector(a):\n",
    "    '''Gets the length of a vector'''\n",
    "    return math.sqrt(my_dot_product(a,a))\n",
    "print(\"Length of vector v: {}\".format(my_length_of_vector(v)))\n",
    "print(\"Length of vector p: {}\".format(my_length_of_vector(p)))"
   ]
  },
  {
   "cell_type": "markdown",
   "metadata": {},
   "source": [
    "# Unit Vectors"
   ]
  },
  {
   "cell_type": "code",
   "execution_count": 33,
   "metadata": {},
   "outputs": [
    {
     "name": "stdout",
     "output_type": "stream",
     "text": [
      "Unit Vector at 0 degrees: [ 1.  0.]\n",
      "Unit Vector at 90 degrees: [  6.12323400e-17   1.00000000e+00]\n",
      "Unit Vector at 45 degrees: [ 0.70710678  0.70710678]\n",
      "Check is that 1 over root2 is: 0.7071067811865475\n"
     ]
    }
   ],
   "source": [
    "#Generate a 2d unit vector at a given angle in degrees\n",
    "#This uses the definition that a unit vector is u = [cos(theta), sin(theta)]\n",
    "def my_get_unit_vec_at_angle(theta):\n",
    "    '''returns the unit vector on this degree angle'''\n",
    "    return np.array([   math.cos(math.radians(theta)), math.sin(math.radians(theta))   ])\n",
    "\n",
    "print(\"Unit Vector at 0 degrees: {}\".format(my_get_unit_vec_at_angle(0)))\n",
    "print(\"Unit Vector at 90 degrees: {}\".format(my_get_unit_vec_at_angle(90)))\n",
    "print(\"Unit Vector at 45 degrees: {}\".format(my_get_unit_vec_at_angle(45)))\n",
    "print(\"Check is that 1 over root2 is: {}\".format(1 / math.sqrt(2)))"
   ]
  },
  {
   "cell_type": "code",
   "execution_count": 34,
   "metadata": {},
   "outputs": [
    {
     "name": "stdout",
     "output_type": "stream",
     "text": [
      "Unit vector in same direction as v: [ 0.89442719  0.4472136 ]\n"
     ]
    }
   ],
   "source": [
    "#Get the unit vector in same directon as this vector\n",
    "#Using the definition u = v / length(v)\n",
    "def my_unit_vec_same_direc(a):\n",
    "    '''returns the unit vector which has same direction as the given vector'''\n",
    "    return a / my_length_of_vector(a)\n",
    "print(\"Unit vector in same direction as v: {}\".format(my_unit_vec_same_direc(v)))"
   ]
  },
  {
   "cell_type": "markdown",
   "metadata": {},
   "source": [
    "# Angle between vectors"
   ]
  },
  {
   "cell_type": "code",
   "execution_count": 46,
   "metadata": {},
   "outputs": [
    {
     "name": "stdout",
     "output_type": "stream",
     "text": [
      "Angle between these vectors is: 45.0\n",
      "Angle between these vectors is: 135.0\n"
     ]
    }
   ],
   "source": [
    "#The angle between two vectors is derived to be cos(theta) = (v dot w) / length(v) * length(w) \n",
    "#or, more simply the unit vector of v dot the unit vector of w\n",
    "def angle_between(a, b):\n",
    "    '''returns the angle between two vectors, in radians'''\n",
    "    unit_a = my_unit_vec_same_direc(a)\n",
    "    unit_b = my_unit_vec_same_direc(b)\n",
    "    costheta = my_dot_product(unit_a, unit_b)\n",
    "    return np.arccos(costheta)\n",
    "\n",
    "#set up test vectors for 45 degree angle\n",
    "zeroDeg = my_get_unit_vec_at_angle(0)\n",
    "fortyFiveDeg = my_get_unit_vec_at_angle(45)\n",
    "print(\"Angle between these vectors is: {}\".format( math.degrees( angle_between(zeroDeg, fortyFiveDeg) )))\n",
    "#test for 135 degree angle\n",
    "oneThirtyFiveDeg = my_get_unit_vec_at_angle(135)\n",
    "print(\"Angle between these vectors is: {}\".format( math.degrees( angle_between(zeroDeg, oneThirtyFiveDeg) )))"
   ]
  },
  {
   "cell_type": "code",
   "execution_count": null,
   "metadata": {
    "collapsed": true
   },
   "outputs": [],
   "source": []
  }
 ],
 "metadata": {
  "kernelspec": {
   "display_name": "Python [default]",
   "language": "python",
   "name": "python3"
  },
  "language_info": {
   "codemirror_mode": {
    "name": "ipython",
    "version": 3
   },
   "file_extension": ".py",
   "mimetype": "text/x-python",
   "name": "python",
   "nbconvert_exporter": "python",
   "pygments_lexer": "ipython3",
   "version": "3.6.3"
  }
 },
 "nbformat": 4,
 "nbformat_minor": 2
}
