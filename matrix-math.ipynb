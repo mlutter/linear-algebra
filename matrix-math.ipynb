{
 "cells": [
  {
   "cell_type": "code",
   "execution_count": 9,
   "metadata": {},
   "outputs": [],
   "source": [
    "import numpy as np\n",
    "\n",
    "matA = np.array([[1,0,0],[-3,1,0],[0,0,1]])\n",
    "matB = np.array([[1,2,1],[3,8,1],[0,4,1]])\n"
   ]
  },
  {
   "cell_type": "markdown",
   "metadata": {},
   "source": [
    "# Matrix Multiplication"
   ]
  },
  {
   "cell_type": "code",
   "execution_count": 10,
   "metadata": {
    "scrolled": true
   },
   "outputs": [
    {
     "name": "stdout",
     "output_type": "stream",
     "text": [
      "[[ 1  2  1]\n",
      " [ 0  2 -2]\n",
      " [ 0  4  1]]\n"
     ]
    }
   ],
   "source": [
    "#The numpy easy way\n",
    "print(np.dot(matA, matB))"
   ]
  },
  {
   "cell_type": "code",
   "execution_count": 15,
   "metadata": {},
   "outputs": [
    {
     "name": "stdout",
     "output_type": "stream",
     "text": [
      "[[ 1.  2.  1.]\n",
      " [ 0.  2. -2.]\n",
      " [ 0.  8.  2.]]\n"
     ]
    }
   ],
   "source": [
    "#reinventing the wheel\n",
    "def my_matrix_multiply(A, B):\n",
    "    numRowA = len(A)\n",
    "    numColA = len(A[0])\n",
    "    numRowB = len(B)\n",
    "    numColB = len(B[0])   \n",
    "    \n",
    "    #requirement for multiplication is the number of columns of A must match the number of rows of B\n",
    "    if numColA != numRowB:\n",
    "        print(\"Error multiplying: Columns of A do not equal rows of B\")\n",
    "        return\n",
    "    \n",
    "    #If A is m by n and B is n by p then C will be m by p. \n",
    "    #or, basically, the number of rows from A and the number of columns from B\n",
    "    C = np.empty(shape=(numRowA, numColB))\n",
    "    for i in range(numRowA):\n",
    "        for j in range(numColB):\n",
    "            for k in range(numColA):\n",
    "                C[i][j] += A[i][k] * B[k][j]\n",
    "    return C\n",
    "\n",
    "print(my_matrix_multiply(matA, matB))"
   ]
  },
  {
   "cell_type": "code",
   "execution_count": null,
   "metadata": {
    "collapsed": true
   },
   "outputs": [],
   "source": []
  }
 ],
 "metadata": {
  "kernelspec": {
   "display_name": "Python [default]",
   "language": "python",
   "name": "python3"
  },
  "language_info": {
   "codemirror_mode": {
    "name": "ipython",
    "version": 3
   },
   "file_extension": ".py",
   "mimetype": "text/x-python",
   "name": "python",
   "nbconvert_exporter": "python",
   "pygments_lexer": "ipython3",
   "version": "3.6.3"
  }
 },
 "nbformat": 4,
 "nbformat_minor": 2
}
